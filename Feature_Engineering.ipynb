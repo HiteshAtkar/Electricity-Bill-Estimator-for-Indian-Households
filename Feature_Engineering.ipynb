{
 "cells": [
  {
   "cell_type": "code",
   "execution_count": 1,
   "id": "62e426d3-6ef6-468e-90ed-66d8190ce86d",
   "metadata": {},
   "outputs": [],
   "source": [
    "import numpy as np\n",
    "import pandas as pd\n",
    "from sklearn.preprocessing import MinMaxScaler\n",
    "from sklearn.preprocessing import OneHotEncoder\n",
    "from sklearn.linear_model import LinearRegression\n",
    "from sklearn.model_selection import train_test_split\n",
    "from sklearn.metrics import r2_score,mean_squared_error,mean_absolute_error"
   ]
  },
  {
   "cell_type": "code",
   "execution_count": 2,
   "id": "7c8fa259-447c-4e33-8f81-33e59b5a2d9d",
   "metadata": {},
   "outputs": [],
   "source": [
    "data=pd.read_csv(\"data/dataset.csv\")"
   ]
  },
  {
   "cell_type": "code",
   "execution_count": 3,
   "id": "2dc9af70-861e-431b-9a34-acc18fd119e4",
   "metadata": {},
   "outputs": [
    {
     "data": {
      "text/plain": [
       "array([0])"
      ]
     },
     "execution_count": 3,
     "metadata": {},
     "output_type": "execute_result"
    }
   ],
   "source": [
    "data['MotorPump'].unique()"
   ]
  },
  {
   "cell_type": "code",
   "execution_count": 4,
   "id": "a2a0e0e0-224b-467a-915e-59ba0db5be6a",
   "metadata": {},
   "outputs": [],
   "source": [
    "data.drop('MotorPump',axis=1,inplace=True)\n",
    "data.drop('Company',axis=1,inplace=True)"
   ]
  },
  {
   "cell_type": "code",
   "execution_count": 5,
   "id": "34be43e3-6671-4db9-af92-9638e5a66b24",
   "metadata": {},
   "outputs": [],
   "source": [
    "scaler = MinMaxScaler(feature_range=(1, 5))\n",
    "appliance_cols = ['Fan', 'Refrigerator', 'AirConditioner', 'Television', 'Monitor']\n",
    "data[appliance_cols] = scaler.fit_transform(data[appliance_cols])"
   ]
  },
  {
   "cell_type": "code",
   "execution_count": 6,
   "id": "cedacfd5-451e-4c0e-bde9-714d9dbadbfe",
   "metadata": {},
   "outputs": [],
   "source": [
    "data['Refrigerator']=data['Refrigerator'].astype(int)\n",
    "data['AirConditioner']=data['AirConditioner'].astype(int)\n",
    "data['Television']=data['Television'].astype(int)\n",
    "data['Monitor']=data['Monitor'].astype(int)\n",
    "data['Fan']=data['Fan'].astype(int)"
   ]
  },
  {
   "cell_type": "code",
   "execution_count": 7,
   "id": "c5eed6a6-cf92-4a36-a3bd-82ec936aaefc",
   "metadata": {},
   "outputs": [],
   "source": [
    "encoder = OneHotEncoder(sparse_output=False,handle_unknown='ignore')"
   ]
  },
  {
   "cell_type": "code",
   "execution_count": 8,
   "id": "28456ff6-acd3-4b41-afc0-20e74c0fae66",
   "metadata": {},
   "outputs": [],
   "source": [
    "encoded_city=encoder.fit_transform(data[['City']])"
   ]
  },
  {
   "cell_type": "code",
   "execution_count": 9,
   "id": "4778bf54-838e-4e99-9c0b-e876760932e8",
   "metadata": {},
   "outputs": [],
   "source": [
    "encoded_city=encoded_city.astype(int)\n"
   ]
  },
  {
   "cell_type": "code",
   "execution_count": 10,
   "id": "544f447b-e171-4282-a277-5b7d2723a3d3",
   "metadata": {},
   "outputs": [],
   "source": [
    "encoded_cols = encoder.get_feature_names_out(['City'])"
   ]
  },
  {
   "cell_type": "code",
   "execution_count": 11,
   "id": "3daaf535-95b4-4530-b86a-960dd8c77926",
   "metadata": {},
   "outputs": [],
   "source": [
    "encoded_data=pd.DataFrame(encoded_city ,columns=encoded_cols)"
   ]
  },
  {
   "cell_type": "code",
   "execution_count": 12,
   "id": "f82128d9-c603-4ec9-b6f0-05dfb5ed21c3",
   "metadata": {},
   "outputs": [],
   "source": [
    "encoded_data.index=data.index"
   ]
  },
  {
   "cell_type": "code",
   "execution_count": 13,
   "id": "73fb7a8b-81eb-445b-8f08-69cfda968d23",
   "metadata": {},
   "outputs": [],
   "source": [
    "data.drop('City',axis=1,inplace=True)"
   ]
  },
  {
   "cell_type": "code",
   "execution_count": 14,
   "id": "f5cc30f2-c58c-4240-a9be-9fe80a6a2f72",
   "metadata": {},
   "outputs": [],
   "source": [
    "data=pd.concat([data,encoded_data],axis=1)"
   ]
  },
  {
   "cell_type": "code",
   "execution_count": 15,
   "id": "88e85fc6-3c54-4afd-9c36-1476df68d2fa",
   "metadata": {},
   "outputs": [],
   "source": [
    "data = data[[col for col in data.columns if col != 'ElectricityBill'] + ['ElectricityBill']]"
   ]
  },
  {
   "cell_type": "code",
   "execution_count": null,
   "id": "875c4f08-9fc8-4cff-9448-e080bbfd5c46",
   "metadata": {},
   "outputs": [],
   "source": [
    "data.to_csv('data/processed_dataset.csv', index=False)"
   ]
  }
 ],
 "metadata": {
  "kernelspec": {
   "display_name": "venv",
   "language": "python",
   "name": "python3"
  },
  "language_info": {
   "codemirror_mode": {
    "name": "ipython",
    "version": 3
   },
   "file_extension": ".py",
   "mimetype": "text/x-python",
   "name": "python",
   "nbconvert_exporter": "python",
   "pygments_lexer": "ipython3",
   "version": "3.13.2"
  }
 },
 "nbformat": 4,
 "nbformat_minor": 5
}
